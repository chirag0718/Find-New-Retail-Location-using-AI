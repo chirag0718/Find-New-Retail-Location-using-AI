{
 "cells": [
  {
   "cell_type": "code",
   "execution_count": 1,
   "metadata": {},
   "outputs": [],
   "source": [
    "# Regular EDA and plotting libraries\n",
    "import numpy as np # np is short for numpy\n",
    "import pandas as pd # pandas is so commonly used, it's shortened to pd\n",
    "import matplotlib.pyplot as plt\n",
    "import seaborn as sns # seaborn gets shortened to sns\n",
    "\n",
    "# We want our plots to appear in the notebook\n",
    "%matplotlib inline \n",
    "\n",
    "## Models\n",
    "from sklearn.linear_model import LogisticRegression\n",
    "from sklearn.neural_network import MLPClassifier\n",
    "from sklearn.tree import DecisionTreeClassifier\n",
    "\n",
    "## Model evaluators\n",
    "from sklearn.model_selection import train_test_split, cross_val_score\n",
    "from sklearn.model_selection import RandomizedSearchCV, GridSearchCV\n",
    "from sklearn.metrics import confusion_matrix, classification_report\n",
    "from sklearn.metrics import precision_score, recall_score, f1_score\n",
    "from sklearn.metrics import plot_roc_curve\n",
    "from sklearn import tree\n",
    "from sklearn import metrics"
   ]
  },
  {
   "cell_type": "code",
   "execution_count": 2,
   "metadata": {},
   "outputs": [],
   "source": [
    "store_data = pd.read_csv(\"storedata.csv\")"
   ]
  },
  {
   "cell_type": "code",
   "execution_count": 3,
   "metadata": {},
   "outputs": [
    {
     "data": {
      "text/html": [
       "<div>\n",
       "<style scoped>\n",
       "    .dataframe tbody tr th:only-of-type {\n",
       "        vertical-align: middle;\n",
       "    }\n",
       "\n",
       "    .dataframe tbody tr th {\n",
       "        vertical-align: top;\n",
       "    }\n",
       "\n",
       "    .dataframe thead th {\n",
       "        text-align: right;\n",
       "    }\n",
       "</style>\n",
       "<table border=\"1\" class=\"dataframe\">\n",
       "  <thead>\n",
       "    <tr style=\"text-align: right;\">\n",
       "      <th></th>\n",
       "      <th>Town</th>\n",
       "      <th>Country</th>\n",
       "      <th>Store ID</th>\n",
       "      <th>Manager name</th>\n",
       "      <th>Staff</th>\n",
       "      <th>Floor Space</th>\n",
       "      <th>Window</th>\n",
       "      <th>Car park</th>\n",
       "      <th>Demographic score</th>\n",
       "      <th>Location</th>\n",
       "      <th>40min population</th>\n",
       "      <th>30 min population</th>\n",
       "      <th>20 min population</th>\n",
       "      <th>10 min population</th>\n",
       "      <th>Store age</th>\n",
       "      <th>Clearance space</th>\n",
       "      <th>Competition number</th>\n",
       "      <th>Competition score</th>\n",
       "      <th>Performance</th>\n",
       "    </tr>\n",
       "  </thead>\n",
       "  <tbody>\n",
       "    <tr>\n",
       "      <th>0</th>\n",
       "      <td>Swinton (Greater Manchester)</td>\n",
       "      <td>UK</td>\n",
       "      <td>1437</td>\n",
       "      <td>Roger</td>\n",
       "      <td>9</td>\n",
       "      <td>18526</td>\n",
       "      <td>121</td>\n",
       "      <td>Yes</td>\n",
       "      <td>10</td>\n",
       "      <td>Retail Park</td>\n",
       "      <td>1288374</td>\n",
       "      <td>1138224</td>\n",
       "      <td>1006986</td>\n",
       "      <td>1002340</td>\n",
       "      <td>3</td>\n",
       "      <td>238</td>\n",
       "      <td>16</td>\n",
       "      <td>16</td>\n",
       "      <td>Good</td>\n",
       "    </tr>\n",
       "    <tr>\n",
       "      <th>1</th>\n",
       "      <td>Stamford</td>\n",
       "      <td>UK</td>\n",
       "      <td>1544</td>\n",
       "      <td>Ella</td>\n",
       "      <td>8</td>\n",
       "      <td>18569</td>\n",
       "      <td>121</td>\n",
       "      <td>Yes</td>\n",
       "      <td>11</td>\n",
       "      <td>Shopping Centre</td>\n",
       "      <td>1086225</td>\n",
       "      <td>1015321</td>\n",
       "      <td>1012182</td>\n",
       "      <td>1008436</td>\n",
       "      <td>4</td>\n",
       "      <td>384</td>\n",
       "      <td>15</td>\n",
       "      <td>19</td>\n",
       "      <td>Good</td>\n",
       "    </tr>\n",
       "    <tr>\n",
       "      <th>2</th>\n",
       "      <td>Skipton</td>\n",
       "      <td>UK</td>\n",
       "      <td>2039</td>\n",
       "      <td>Valentina</td>\n",
       "      <td>-2</td>\n",
       "      <td>12288</td>\n",
       "      <td>105</td>\n",
       "      <td>No</td>\n",
       "      <td>12</td>\n",
       "      <td>Retail Park</td>\n",
       "      <td>1595638</td>\n",
       "      <td>1281661</td>\n",
       "      <td>1104490</td>\n",
       "      <td>1011395</td>\n",
       "      <td>11</td>\n",
       "      <td>219</td>\n",
       "      <td>13</td>\n",
       "      <td>18</td>\n",
       "      <td>Bad</td>\n",
       "    </tr>\n",
       "    <tr>\n",
       "      <th>3</th>\n",
       "      <td>Stratton</td>\n",
       "      <td>UK</td>\n",
       "      <td>2055</td>\n",
       "      <td>Antonia</td>\n",
       "      <td>7</td>\n",
       "      <td>17092</td>\n",
       "      <td>117</td>\n",
       "      <td>No</td>\n",
       "      <td>14</td>\n",
       "      <td>High Street</td>\n",
       "      <td>1179395</td>\n",
       "      <td>1022959</td>\n",
       "      <td>1009496</td>\n",
       "      <td>1002169</td>\n",
       "      <td>5</td>\n",
       "      <td>261</td>\n",
       "      <td>15</td>\n",
       "      <td>12</td>\n",
       "      <td>Bad</td>\n",
       "    </tr>\n",
       "    <tr>\n",
       "      <th>4</th>\n",
       "      <td>Shepperton</td>\n",
       "      <td>UK</td>\n",
       "      <td>2141</td>\n",
       "      <td>Gabriel</td>\n",
       "      <td>7</td>\n",
       "      <td>11307</td>\n",
       "      <td>103</td>\n",
       "      <td>No</td>\n",
       "      <td>18</td>\n",
       "      <td>Retail Park</td>\n",
       "      <td>1398558</td>\n",
       "      <td>1085170</td>\n",
       "      <td>1003137</td>\n",
       "      <td>1002513</td>\n",
       "      <td>7</td>\n",
       "      <td>200</td>\n",
       "      <td>19</td>\n",
       "      <td>13</td>\n",
       "      <td>Bad</td>\n",
       "    </tr>\n",
       "  </tbody>\n",
       "</table>\n",
       "</div>"
      ],
      "text/plain": [
       "                            Town Country  Store ID Manager name  Staff  \\\n",
       "0   Swinton (Greater Manchester)      UK      1437        Roger      9   \n",
       "1                       Stamford      UK      1544         Ella      8   \n",
       "2                        Skipton      UK      2039    Valentina     -2   \n",
       "3                       Stratton      UK      2055      Antonia      7   \n",
       "4                     Shepperton      UK      2141      Gabriel      7   \n",
       "\n",
       "   Floor Space  Window Car park  Demographic score         Location  \\\n",
       "0        18526     121      Yes                 10      Retail Park   \n",
       "1        18569     121      Yes                 11  Shopping Centre   \n",
       "2        12288     105       No                 12      Retail Park   \n",
       "3        17092     117       No                 14      High Street   \n",
       "4        11307     103       No                 18      Retail Park   \n",
       "\n",
       "   40min population  30 min population  20 min population  10 min population  \\\n",
       "0           1288374            1138224            1006986            1002340   \n",
       "1           1086225            1015321            1012182            1008436   \n",
       "2           1595638            1281661            1104490            1011395   \n",
       "3           1179395            1022959            1009496            1002169   \n",
       "4           1398558            1085170            1003137            1002513   \n",
       "\n",
       "   Store age  Clearance space  Competition number  Competition score  \\\n",
       "0          3              238                  16                 16   \n",
       "1          4              384                  15                 19   \n",
       "2         11              219                  13                 18   \n",
       "3          5              261                  15                 12   \n",
       "4          7              200                  19                 13   \n",
       "\n",
       "  Performance  \n",
       "0        Good  \n",
       "1        Good  \n",
       "2         Bad  \n",
       "3         Bad  \n",
       "4         Bad  "
      ]
     },
     "execution_count": 3,
     "metadata": {},
     "output_type": "execute_result"
    }
   ],
   "source": [
    "store_data.head()"
   ]
  },
  {
   "cell_type": "code",
   "execution_count": 4,
   "metadata": {},
   "outputs": [
    {
     "data": {
      "text/plain": [
       "Town                  object\n",
       "Country               object\n",
       "Store ID               int64\n",
       "Manager name          object\n",
       "Staff                  int64\n",
       "Floor Space            int64\n",
       "Window                 int64\n",
       "Car park              object\n",
       "Demographic score      int64\n",
       "Location              object\n",
       "40min population       int64\n",
       "30 min population      int64\n",
       "20 min population      int64\n",
       "10 min population      int64\n",
       "Store age              int64\n",
       "Clearance space        int64\n",
       "Competition number     int64\n",
       "Competition score      int64\n",
       "Performance           object\n",
       "dtype: object"
      ]
     },
     "execution_count": 4,
     "metadata": {},
     "output_type": "execute_result"
    }
   ],
   "source": [
    "store_data.dtypes"
   ]
  },
  {
   "cell_type": "code",
   "execution_count": 5,
   "metadata": {},
   "outputs": [],
   "source": [
    "store_data = store_data.drop(['Town', 'Country','Store ID','Manager name'], axis = 1)"
   ]
  },
  {
   "cell_type": "code",
   "execution_count": 64,
   "metadata": {},
   "outputs": [
    {
     "data": {
      "text/html": [
       "<div>\n",
       "<style scoped>\n",
       "    .dataframe tbody tr th:only-of-type {\n",
       "        vertical-align: middle;\n",
       "    }\n",
       "\n",
       "    .dataframe tbody tr th {\n",
       "        vertical-align: top;\n",
       "    }\n",
       "\n",
       "    .dataframe thead th {\n",
       "        text-align: right;\n",
       "    }\n",
       "</style>\n",
       "<table border=\"1\" class=\"dataframe\">\n",
       "  <thead>\n",
       "    <tr style=\"text-align: right;\">\n",
       "      <th></th>\n",
       "      <th>Staff</th>\n",
       "      <th>Floor Space</th>\n",
       "      <th>Window</th>\n",
       "      <th>Demographic score</th>\n",
       "      <th>Location</th>\n",
       "      <th>40min population</th>\n",
       "      <th>30 min population</th>\n",
       "      <th>20 min population</th>\n",
       "      <th>10 min population</th>\n",
       "      <th>Store age</th>\n",
       "      <th>Clearance space</th>\n",
       "      <th>Competition number</th>\n",
       "      <th>Competition score</th>\n",
       "      <th>Performance</th>\n",
       "    </tr>\n",
       "  </thead>\n",
       "  <tbody>\n",
       "    <tr>\n",
       "      <th>0</th>\n",
       "      <td>9</td>\n",
       "      <td>18526</td>\n",
       "      <td>121</td>\n",
       "      <td>10</td>\n",
       "      <td>1</td>\n",
       "      <td>1288374</td>\n",
       "      <td>1138224</td>\n",
       "      <td>1006986</td>\n",
       "      <td>1002340</td>\n",
       "      <td>3</td>\n",
       "      <td>238</td>\n",
       "      <td>16</td>\n",
       "      <td>16</td>\n",
       "      <td>1</td>\n",
       "    </tr>\n",
       "    <tr>\n",
       "      <th>1</th>\n",
       "      <td>8</td>\n",
       "      <td>18569</td>\n",
       "      <td>121</td>\n",
       "      <td>11</td>\n",
       "      <td>2</td>\n",
       "      <td>1086225</td>\n",
       "      <td>1015321</td>\n",
       "      <td>1012182</td>\n",
       "      <td>1008436</td>\n",
       "      <td>4</td>\n",
       "      <td>384</td>\n",
       "      <td>15</td>\n",
       "      <td>19</td>\n",
       "      <td>1</td>\n",
       "    </tr>\n",
       "    <tr>\n",
       "      <th>2</th>\n",
       "      <td>0</td>\n",
       "      <td>12288</td>\n",
       "      <td>105</td>\n",
       "      <td>12</td>\n",
       "      <td>1</td>\n",
       "      <td>1595638</td>\n",
       "      <td>1281661</td>\n",
       "      <td>1104490</td>\n",
       "      <td>1011395</td>\n",
       "      <td>11</td>\n",
       "      <td>219</td>\n",
       "      <td>13</td>\n",
       "      <td>18</td>\n",
       "      <td>2</td>\n",
       "    </tr>\n",
       "    <tr>\n",
       "      <th>3</th>\n",
       "      <td>7</td>\n",
       "      <td>17092</td>\n",
       "      <td>117</td>\n",
       "      <td>14</td>\n",
       "      <td>3</td>\n",
       "      <td>1179395</td>\n",
       "      <td>1022959</td>\n",
       "      <td>1009496</td>\n",
       "      <td>1002169</td>\n",
       "      <td>5</td>\n",
       "      <td>261</td>\n",
       "      <td>15</td>\n",
       "      <td>12</td>\n",
       "      <td>2</td>\n",
       "    </tr>\n",
       "    <tr>\n",
       "      <th>4</th>\n",
       "      <td>7</td>\n",
       "      <td>11307</td>\n",
       "      <td>103</td>\n",
       "      <td>18</td>\n",
       "      <td>1</td>\n",
       "      <td>1398558</td>\n",
       "      <td>1085170</td>\n",
       "      <td>1003137</td>\n",
       "      <td>1002513</td>\n",
       "      <td>7</td>\n",
       "      <td>200</td>\n",
       "      <td>19</td>\n",
       "      <td>13</td>\n",
       "      <td>2</td>\n",
       "    </tr>\n",
       "    <tr>\n",
       "      <th>5</th>\n",
       "      <td>7</td>\n",
       "      <td>17888</td>\n",
       "      <td>119</td>\n",
       "      <td>19</td>\n",
       "      <td>1</td>\n",
       "      <td>1614716</td>\n",
       "      <td>1325848</td>\n",
       "      <td>1220059</td>\n",
       "      <td>1193318</td>\n",
       "      <td>2</td>\n",
       "      <td>394</td>\n",
       "      <td>17</td>\n",
       "      <td>11</td>\n",
       "      <td>1</td>\n",
       "    </tr>\n",
       "    <tr>\n",
       "      <th>6</th>\n",
       "      <td>8</td>\n",
       "      <td>13814</td>\n",
       "      <td>109</td>\n",
       "      <td>17</td>\n",
       "      <td>3</td>\n",
       "      <td>1323396</td>\n",
       "      <td>1047485</td>\n",
       "      <td>1000888</td>\n",
       "      <td>1000844</td>\n",
       "      <td>5</td>\n",
       "      <td>228</td>\n",
       "      <td>11</td>\n",
       "      <td>14</td>\n",
       "      <td>2</td>\n",
       "    </tr>\n",
       "    <tr>\n",
       "      <th>7</th>\n",
       "      <td>9</td>\n",
       "      <td>15643</td>\n",
       "      <td>114</td>\n",
       "      <td>11</td>\n",
       "      <td>1</td>\n",
       "      <td>1052606</td>\n",
       "      <td>1025407</td>\n",
       "      <td>1004490</td>\n",
       "      <td>1000319</td>\n",
       "      <td>4</td>\n",
       "      <td>258</td>\n",
       "      <td>12</td>\n",
       "      <td>16</td>\n",
       "      <td>1</td>\n",
       "    </tr>\n",
       "    <tr>\n",
       "      <th>8</th>\n",
       "      <td>9</td>\n",
       "      <td>13869</td>\n",
       "      <td>109</td>\n",
       "      <td>12</td>\n",
       "      <td>2</td>\n",
       "      <td>1537032</td>\n",
       "      <td>1301956</td>\n",
       "      <td>1220364</td>\n",
       "      <td>1057921</td>\n",
       "      <td>9</td>\n",
       "      <td>217</td>\n",
       "      <td>19</td>\n",
       "      <td>14</td>\n",
       "      <td>1</td>\n",
       "    </tr>\n",
       "    <tr>\n",
       "      <th>9</th>\n",
       "      <td>7</td>\n",
       "      <td>12071</td>\n",
       "      <td>105</td>\n",
       "      <td>19</td>\n",
       "      <td>3</td>\n",
       "      <td>1141000</td>\n",
       "      <td>1029186</td>\n",
       "      <td>1005096</td>\n",
       "      <td>1000687</td>\n",
       "      <td>6</td>\n",
       "      <td>222</td>\n",
       "      <td>16</td>\n",
       "      <td>18</td>\n",
       "      <td>1</td>\n",
       "    </tr>\n",
       "    <tr>\n",
       "      <th>10</th>\n",
       "      <td>9</td>\n",
       "      <td>13487</td>\n",
       "      <td>108</td>\n",
       "      <td>15</td>\n",
       "      <td>1</td>\n",
       "      <td>1066359</td>\n",
       "      <td>1032143</td>\n",
       "      <td>1012703</td>\n",
       "      <td>1001537</td>\n",
       "      <td>10</td>\n",
       "      <td>246</td>\n",
       "      <td>15</td>\n",
       "      <td>13</td>\n",
       "      <td>1</td>\n",
       "    </tr>\n",
       "    <tr>\n",
       "      <th>11</th>\n",
       "      <td>8</td>\n",
       "      <td>11071</td>\n",
       "      <td>102</td>\n",
       "      <td>12</td>\n",
       "      <td>1</td>\n",
       "      <td>1514670</td>\n",
       "      <td>1400857</td>\n",
       "      <td>1319646</td>\n",
       "      <td>1010879</td>\n",
       "      <td>11</td>\n",
       "      <td>202</td>\n",
       "      <td>15</td>\n",
       "      <td>10</td>\n",
       "      <td>2</td>\n",
       "    </tr>\n",
       "    <tr>\n",
       "      <th>12</th>\n",
       "      <td>8</td>\n",
       "      <td>18923</td>\n",
       "      <td>122</td>\n",
       "      <td>18</td>\n",
       "      <td>2</td>\n",
       "      <td>1270676</td>\n",
       "      <td>1175257</td>\n",
       "      <td>1032335</td>\n",
       "      <td>1020164</td>\n",
       "      <td>9</td>\n",
       "      <td>237</td>\n",
       "      <td>10</td>\n",
       "      <td>17</td>\n",
       "      <td>1</td>\n",
       "    </tr>\n",
       "    <tr>\n",
       "      <th>13</th>\n",
       "      <td>8</td>\n",
       "      <td>13827</td>\n",
       "      <td>109</td>\n",
       "      <td>12</td>\n",
       "      <td>1</td>\n",
       "      <td>1132725</td>\n",
       "      <td>1102537</td>\n",
       "      <td>1058262</td>\n",
       "      <td>1012348</td>\n",
       "      <td>7</td>\n",
       "      <td>242</td>\n",
       "      <td>19</td>\n",
       "      <td>13</td>\n",
       "      <td>1</td>\n",
       "    </tr>\n",
       "    <tr>\n",
       "      <th>14</th>\n",
       "      <td>5</td>\n",
       "      <td>14588</td>\n",
       "      <td>111</td>\n",
       "      <td>17</td>\n",
       "      <td>3</td>\n",
       "      <td>1242546</td>\n",
       "      <td>1053056</td>\n",
       "      <td>1047783</td>\n",
       "      <td>1007899</td>\n",
       "      <td>10</td>\n",
       "      <td>261</td>\n",
       "      <td>11</td>\n",
       "      <td>19</td>\n",
       "      <td>2</td>\n",
       "    </tr>\n",
       "    <tr>\n",
       "      <th>15</th>\n",
       "      <td>6</td>\n",
       "      <td>11824</td>\n",
       "      <td>104</td>\n",
       "      <td>14</td>\n",
       "      <td>3</td>\n",
       "      <td>1043277</td>\n",
       "      <td>1004546</td>\n",
       "      <td>1001718</td>\n",
       "      <td>1000627</td>\n",
       "      <td>6</td>\n",
       "      <td>225</td>\n",
       "      <td>11</td>\n",
       "      <td>19</td>\n",
       "      <td>2</td>\n",
       "    </tr>\n",
       "    <tr>\n",
       "      <th>16</th>\n",
       "      <td>8</td>\n",
       "      <td>14291</td>\n",
       "      <td>110</td>\n",
       "      <td>18</td>\n",
       "      <td>3</td>\n",
       "      <td>1395395</td>\n",
       "      <td>1010441</td>\n",
       "      <td>1005783</td>\n",
       "      <td>1004909</td>\n",
       "      <td>2</td>\n",
       "      <td>272</td>\n",
       "      <td>16</td>\n",
       "      <td>11</td>\n",
       "      <td>1</td>\n",
       "    </tr>\n",
       "    <tr>\n",
       "      <th>17</th>\n",
       "      <td>6</td>\n",
       "      <td>10911</td>\n",
       "      <td>102</td>\n",
       "      <td>10</td>\n",
       "      <td>1</td>\n",
       "      <td>1392302</td>\n",
       "      <td>1113062</td>\n",
       "      <td>1097869</td>\n",
       "      <td>1030824</td>\n",
       "      <td>2</td>\n",
       "      <td>203</td>\n",
       "      <td>10</td>\n",
       "      <td>18</td>\n",
       "      <td>2</td>\n",
       "    </tr>\n",
       "    <tr>\n",
       "      <th>18</th>\n",
       "      <td>9</td>\n",
       "      <td>15219</td>\n",
       "      <td>113</td>\n",
       "      <td>15</td>\n",
       "      <td>2</td>\n",
       "      <td>1973493</td>\n",
       "      <td>1929089</td>\n",
       "      <td>1429238</td>\n",
       "      <td>1426533</td>\n",
       "      <td>6</td>\n",
       "      <td>324</td>\n",
       "      <td>12</td>\n",
       "      <td>13</td>\n",
       "      <td>1</td>\n",
       "    </tr>\n",
       "    <tr>\n",
       "      <th>19</th>\n",
       "      <td>9</td>\n",
       "      <td>12128</td>\n",
       "      <td>105</td>\n",
       "      <td>14</td>\n",
       "      <td>2</td>\n",
       "      <td>1634545</td>\n",
       "      <td>1482561</td>\n",
       "      <td>1353056</td>\n",
       "      <td>1296149</td>\n",
       "      <td>5</td>\n",
       "      <td>249</td>\n",
       "      <td>11</td>\n",
       "      <td>18</td>\n",
       "      <td>1</td>\n",
       "    </tr>\n",
       "  </tbody>\n",
       "</table>\n",
       "</div>"
      ],
      "text/plain": [
       "    Staff  Floor Space  Window  Demographic score  Location  40min population  \\\n",
       "0       9        18526     121                 10         1           1288374   \n",
       "1       8        18569     121                 11         2           1086225   \n",
       "2       0        12288     105                 12         1           1595638   \n",
       "3       7        17092     117                 14         3           1179395   \n",
       "4       7        11307     103                 18         1           1398558   \n",
       "5       7        17888     119                 19         1           1614716   \n",
       "6       8        13814     109                 17         3           1323396   \n",
       "7       9        15643     114                 11         1           1052606   \n",
       "8       9        13869     109                 12         2           1537032   \n",
       "9       7        12071     105                 19         3           1141000   \n",
       "10      9        13487     108                 15         1           1066359   \n",
       "11      8        11071     102                 12         1           1514670   \n",
       "12      8        18923     122                 18         2           1270676   \n",
       "13      8        13827     109                 12         1           1132725   \n",
       "14      5        14588     111                 17         3           1242546   \n",
       "15      6        11824     104                 14         3           1043277   \n",
       "16      8        14291     110                 18         3           1395395   \n",
       "17      6        10911     102                 10         1           1392302   \n",
       "18      9        15219     113                 15         2           1973493   \n",
       "19      9        12128     105                 14         2           1634545   \n",
       "\n",
       "    30 min population  20 min population  10 min population  Store age  \\\n",
       "0             1138224            1006986            1002340          3   \n",
       "1             1015321            1012182            1008436          4   \n",
       "2             1281661            1104490            1011395         11   \n",
       "3             1022959            1009496            1002169          5   \n",
       "4             1085170            1003137            1002513          7   \n",
       "5             1325848            1220059            1193318          2   \n",
       "6             1047485            1000888            1000844          5   \n",
       "7             1025407            1004490            1000319          4   \n",
       "8             1301956            1220364            1057921          9   \n",
       "9             1029186            1005096            1000687          6   \n",
       "10            1032143            1012703            1001537         10   \n",
       "11            1400857            1319646            1010879         11   \n",
       "12            1175257            1032335            1020164          9   \n",
       "13            1102537            1058262            1012348          7   \n",
       "14            1053056            1047783            1007899         10   \n",
       "15            1004546            1001718            1000627          6   \n",
       "16            1010441            1005783            1004909          2   \n",
       "17            1113062            1097869            1030824          2   \n",
       "18            1929089            1429238            1426533          6   \n",
       "19            1482561            1353056            1296149          5   \n",
       "\n",
       "    Clearance space  Competition number  Competition score  Performance  \n",
       "0               238                  16                 16            1  \n",
       "1               384                  15                 19            1  \n",
       "2               219                  13                 18            2  \n",
       "3               261                  15                 12            2  \n",
       "4               200                  19                 13            2  \n",
       "5               394                  17                 11            1  \n",
       "6               228                  11                 14            2  \n",
       "7               258                  12                 16            1  \n",
       "8               217                  19                 14            1  \n",
       "9               222                  16                 18            1  \n",
       "10              246                  15                 13            1  \n",
       "11              202                  15                 10            2  \n",
       "12              237                  10                 17            1  \n",
       "13              242                  19                 13            1  \n",
       "14              261                  11                 19            2  \n",
       "15              225                  11                 19            2  \n",
       "16              272                  16                 11            1  \n",
       "17              203                  10                 18            2  \n",
       "18              324                  12                 13            1  \n",
       "19              249                  11                 18            1  "
      ]
     },
     "execution_count": 64,
     "metadata": {},
     "output_type": "execute_result"
    }
   ],
   "source": [
    "store_data.head(20)"
   ]
  },
  {
   "cell_type": "code",
   "execution_count": 7,
   "metadata": {},
   "outputs": [
    {
     "data": {
      "image/png": "[encoded data removed]",
      "text/plain": [
       "<Figure size 432x288 with 1 Axes>"
      ]
     },
     "metadata": {
      "needs_background": "light"
     },
     "output_type": "display_data"
    }
   ],
   "source": [
    "\n"
   ]
  },
  {
   "cell_type": "code",
   "execution_count": 8,
   "metadata": {},
   "outputs": [
    {
     "data": {
      "image/png": "[encoded data removed]",
      "text/plain": [
       "<Figure size 432x288 with 1 Axes>"
      ]
     },
     "metadata": {
      "needs_background": "light"
     },
     "output_type": "display_data"
    }
   ],
   "source": [
    "store_data.groupby(['Car park','Performance']).size().unstack().plot(kind='bar',stacked=True)\n",
    "plt.show()"
   ]
  },
  {
   "cell_type": "code",
   "execution_count": 9,
   "metadata": {},
   "outputs": [
    {
     "data": {
      "image/png": "[encoded data removed]",
      "text/plain": [
       "<Figure size 432x288 with 1 Axes>"
      ]
     },
     "metadata": {
      "needs_background": "light"
     },
     "output_type": "display_data"
    }
   ],
   "source": [
    "store_data.groupby(['Staff','Performance']).size().unstack().plot(kind='bar',stacked=True)\n",
    "plt.show()"
   ]
  },
  {
   "cell_type": "code",
   "execution_count": 10,
   "metadata": {},
   "outputs": [
    {
     "data": {
      "image/png": "[encoded data removed]",
      "text/plain": [
       "<Figure size 432x288 with 1 Axes>"
      ]
     },
     "metadata": {
      "needs_background": "light"
     },
     "output_type": "display_data"
    }
   ],
   "source": [
    "store_data.groupby(['Demographic score','Performance']).size().unstack().plot(kind='bar',stacked=True)\n",
    "plt.show()"
   ]
  },
  {
   "cell_type": "code",
   "execution_count": 11,
   "metadata": {},
   "outputs": [
    {
     "data": {
      "image/png": "[encoded data removed]",
      "text/plain": [
       "<Figure size 432x288 with 1 Axes>"
      ]
     },
     "metadata": {
      "needs_background": "light"
     },
     "output_type": "display_data"
    }
   ],
   "source": [
    "store_data.groupby(['Competition score','Performance']).size().unstack().plot(kind='bar',stacked=True)\n",
    "plt.show()"
   ]
  },
  {
   "cell_type": "code",
   "execution_count": 12,
   "metadata": {},
   "outputs": [
    {
     "data": {
      "image/png": "[encoded data removed]",
      "text/plain": [
       "<Figure size 432x288 with 1 Axes>"
      ]
     },
     "metadata": {
      "needs_background": "light"
     },
     "output_type": "display_data"
    }
   ],
   "source": [
    "store_data.groupby(['Store age','Performance']).size().unstack().plot(kind='bar',stacked=True)\n",
    "plt.show()"
   ]
  },
  {
   "cell_type": "code",
   "execution_count": 13,
   "metadata": {},
   "outputs": [
    {
     "data": {
      "image/png": "[encoded data removed]",
      "text/plain": [
       "<Figure size 432x288 with 1 Axes>"
      ]
     },
     "metadata": {
      "needs_background": "light"
     },
     "output_type": "display_data"
    }
   ],
   "source": [
    "store_data.groupby(['Window','Performance']).size().unstack().plot(kind='bar',stacked=True)\n",
    "plt.show()"
   ]
  },
  {
   "cell_type": "code",
   "execution_count": 14,
   "metadata": {},
   "outputs": [
    {
     "data": {
      "image/png": "[encoded data removed]",
      "text/plain": [
       "<Figure size 432x288 with 1 Axes>"
      ]
     },
     "metadata": {
      "needs_background": "light"
     },
     "output_type": "display_data"
    }
   ],
   "source": [
    "store_data.groupby(['Staff','Performance']).size().unstack().plot(kind='bar',stacked=True)\n",
    "plt.show()"
   ]
  },
  {
   "cell_type": "code",
   "execution_count": 15,
   "metadata": {},
   "outputs": [
    {
     "data": {
      "text/html": [
       "<div>\n",
       "<style scoped>\n",
       "    .dataframe tbody tr th:only-of-type {\n",
       "        vertical-align: middle;\n",
       "    }\n",
       "\n",
       "    .dataframe tbody tr th {\n",
       "        vertical-align: top;\n",
       "    }\n",
       "\n",
       "    .dataframe thead th {\n",
       "        text-align: right;\n",
       "    }\n",
       "</style>\n",
       "<table border=\"1\" class=\"dataframe\">\n",
       "  <thead>\n",
       "    <tr style=\"text-align: right;\">\n",
       "      <th></th>\n",
       "      <th>Staff</th>\n",
       "      <th>Floor Space</th>\n",
       "      <th>Window</th>\n",
       "      <th>Demographic score</th>\n",
       "      <th>40min population</th>\n",
       "      <th>30 min population</th>\n",
       "      <th>20 min population</th>\n",
       "      <th>10 min population</th>\n",
       "      <th>Store age</th>\n",
       "      <th>Clearance space</th>\n",
       "      <th>Competition number</th>\n",
       "      <th>Competition score</th>\n",
       "    </tr>\n",
       "  </thead>\n",
       "  <tbody>\n",
       "    <tr>\n",
       "      <th>Staff</th>\n",
       "      <td>1.000000</td>\n",
       "      <td>0.076039</td>\n",
       "      <td>0.077630</td>\n",
       "      <td>-0.057831</td>\n",
       "      <td>-0.098366</td>\n",
       "      <td>-0.024631</td>\n",
       "      <td>-0.056310</td>\n",
       "      <td>-0.006601</td>\n",
       "      <td>-0.172655</td>\n",
       "      <td>0.110591</td>\n",
       "      <td>0.034571</td>\n",
       "      <td>0.123579</td>\n",
       "    </tr>\n",
       "    <tr>\n",
       "      <th>Floor Space</th>\n",
       "      <td>0.076039</td>\n",
       "      <td>1.000000</td>\n",
       "      <td>0.999208</td>\n",
       "      <td>0.038187</td>\n",
       "      <td>0.051918</td>\n",
       "      <td>-0.032199</td>\n",
       "      <td>-0.046161</td>\n",
       "      <td>-0.096698</td>\n",
       "      <td>-0.049285</td>\n",
       "      <td>0.627324</td>\n",
       "      <td>0.073559</td>\n",
       "      <td>0.091447</td>\n",
       "    </tr>\n",
       "    <tr>\n",
       "      <th>Window</th>\n",
       "      <td>0.077630</td>\n",
       "      <td>0.999208</td>\n",
       "      <td>1.000000</td>\n",
       "      <td>0.038633</td>\n",
       "      <td>0.053228</td>\n",
       "      <td>-0.028688</td>\n",
       "      <td>-0.042441</td>\n",
       "      <td>-0.091651</td>\n",
       "      <td>-0.048992</td>\n",
       "      <td>0.628509</td>\n",
       "      <td>0.074034</td>\n",
       "      <td>0.104551</td>\n",
       "    </tr>\n",
       "    <tr>\n",
       "      <th>Demographic score</th>\n",
       "      <td>-0.057831</td>\n",
       "      <td>0.038187</td>\n",
       "      <td>0.038633</td>\n",
       "      <td>1.000000</td>\n",
       "      <td>0.036694</td>\n",
       "      <td>-0.007616</td>\n",
       "      <td>0.053498</td>\n",
       "      <td>0.099587</td>\n",
       "      <td>-0.014967</td>\n",
       "      <td>0.041849</td>\n",
       "      <td>-0.100716</td>\n",
       "      <td>-0.072325</td>\n",
       "    </tr>\n",
       "    <tr>\n",
       "      <th>40min population</th>\n",
       "      <td>-0.098366</td>\n",
       "      <td>0.051918</td>\n",
       "      <td>0.053228</td>\n",
       "      <td>0.036694</td>\n",
       "      <td>1.000000</td>\n",
       "      <td>0.624732</td>\n",
       "      <td>0.516682</td>\n",
       "      <td>0.432857</td>\n",
       "      <td>-0.191329</td>\n",
       "      <td>-0.018234</td>\n",
       "      <td>-0.004326</td>\n",
       "      <td>0.040554</td>\n",
       "    </tr>\n",
       "    <tr>\n",
       "      <th>30 min population</th>\n",
       "      <td>-0.024631</td>\n",
       "      <td>-0.032199</td>\n",
       "      <td>-0.028688</td>\n",
       "      <td>-0.007616</td>\n",
       "      <td>0.624732</td>\n",
       "      <td>1.000000</td>\n",
       "      <td>0.766158</td>\n",
       "      <td>0.667031</td>\n",
       "      <td>-0.098829</td>\n",
       "      <td>-0.093048</td>\n",
       "      <td>-0.054191</td>\n",
       "      <td>0.046811</td>\n",
       "    </tr>\n",
       "    <tr>\n",
       "      <th>20 min population</th>\n",
       "      <td>-0.056310</td>\n",
       "      <td>-0.046161</td>\n",
       "      <td>-0.042441</td>\n",
       "      <td>0.053498</td>\n",
       "      <td>0.516682</td>\n",
       "      <td>0.766158</td>\n",
       "      <td>1.000000</td>\n",
       "      <td>0.807882</td>\n",
       "      <td>-0.046910</td>\n",
       "      <td>-0.085887</td>\n",
       "      <td>-0.081947</td>\n",
       "      <td>0.008492</td>\n",
       "    </tr>\n",
       "    <tr>\n",
       "      <th>10 min population</th>\n",
       "      <td>-0.006601</td>\n",
       "      <td>-0.096698</td>\n",
       "      <td>-0.091651</td>\n",
       "      <td>0.099587</td>\n",
       "      <td>0.432857</td>\n",
       "      <td>0.667031</td>\n",
       "      <td>0.807882</td>\n",
       "      <td>1.000000</td>\n",
       "      <td>-0.103815</td>\n",
       "      <td>-0.053129</td>\n",
       "      <td>-0.039108</td>\n",
       "      <td>0.068781</td>\n",
       "    </tr>\n",
       "    <tr>\n",
       "      <th>Store age</th>\n",
       "      <td>-0.172655</td>\n",
       "      <td>-0.049285</td>\n",
       "      <td>-0.048992</td>\n",
       "      <td>-0.014967</td>\n",
       "      <td>-0.191329</td>\n",
       "      <td>-0.098829</td>\n",
       "      <td>-0.046910</td>\n",
       "      <td>-0.103815</td>\n",
       "      <td>1.000000</td>\n",
       "      <td>-0.037935</td>\n",
       "      <td>-0.063024</td>\n",
       "      <td>-0.109725</td>\n",
       "    </tr>\n",
       "    <tr>\n",
       "      <th>Clearance space</th>\n",
       "      <td>0.110591</td>\n",
       "      <td>0.627324</td>\n",
       "      <td>0.628509</td>\n",
       "      <td>0.041849</td>\n",
       "      <td>-0.018234</td>\n",
       "      <td>-0.093048</td>\n",
       "      <td>-0.085887</td>\n",
       "      <td>-0.053129</td>\n",
       "      <td>-0.037935</td>\n",
       "      <td>1.000000</td>\n",
       "      <td>0.047191</td>\n",
       "      <td>0.156431</td>\n",
       "    </tr>\n",
       "    <tr>\n",
       "      <th>Competition number</th>\n",
       "      <td>0.034571</td>\n",
       "      <td>0.073559</td>\n",
       "      <td>0.074034</td>\n",
       "      <td>-0.100716</td>\n",
       "      <td>-0.004326</td>\n",
       "      <td>-0.054191</td>\n",
       "      <td>-0.081947</td>\n",
       "      <td>-0.039108</td>\n",
       "      <td>-0.063024</td>\n",
       "      <td>0.047191</td>\n",
       "      <td>1.000000</td>\n",
       "      <td>-0.011215</td>\n",
       "    </tr>\n",
       "    <tr>\n",
       "      <th>Competition score</th>\n",
       "      <td>0.123579</td>\n",
       "      <td>0.091447</td>\n",
       "      <td>0.104551</td>\n",
       "      <td>-0.072325</td>\n",
       "      <td>0.040554</td>\n",
       "      <td>0.046811</td>\n",
       "      <td>0.008492</td>\n",
       "      <td>0.068781</td>\n",
       "      <td>-0.109725</td>\n",
       "      <td>0.156431</td>\n",
       "      <td>-0.011215</td>\n",
       "      <td>1.000000</td>\n",
       "    </tr>\n",
       "  </tbody>\n",
       "</table>\n",
       "</div>"
      ],
      "text/plain": [
       "                       Staff  Floor Space    Window  Demographic score  \\\n",
       "Staff               1.000000     0.076039  0.077630          -0.057831   \n",
       "Floor Space         0.076039     1.000000  0.999208           0.038187   \n",
       "Window              0.077630     0.999208  1.000000           0.038633   \n",
       "Demographic score  -0.057831     0.038187  0.038633           1.000000   \n",
       "40min population   -0.098366     0.051918  0.053228           0.036694   \n",
       "30 min population  -0.024631    -0.032199 -0.028688          -0.007616   \n",
       "20 min population  -0.056310    -0.046161 -0.042441           0.053498   \n",
       "10 min population  -0.006601    -0.096698 -0.091651           0.099587   \n",
       "Store age          -0.172655    -0.049285 -0.048992          -0.014967   \n",
       "Clearance space     0.110591     0.627324  0.628509           0.041849   \n",
       "Competition number  0.034571     0.073559  0.074034          -0.100716   \n",
       "Competition score   0.123579     0.091447  0.104551          -0.072325   \n",
       "\n",
       "                    40min population  30 min population  20 min population  \\\n",
       "Staff                      -0.098366          -0.024631          -0.056310   \n",
       "Floor Space                 0.051918          -0.032199          -0.046161   \n",
       "Window                      0.053228          -0.028688          -0.042441   \n",
       "Demographic score           0.036694          -0.007616           0.053498   \n",
       "40min population            1.000000           0.624732           0.516682   \n",
       "30 min population           0.624732           1.000000           0.766158   \n",
       "20 min population           0.516682           0.766158           1.000000   \n",
       "10 min population           0.432857           0.667031           0.807882   \n",
       "Store age                  -0.191329          -0.098829          -0.046910   \n",
       "Clearance space            -0.018234          -0.093048          -0.085887   \n",
       "Competition number         -0.004326          -0.054191          -0.081947   \n",
       "Competition score           0.040554           0.046811           0.008492   \n",
       "\n",
       "                    10 min population  Store age  Clearance space  \\\n",
       "Staff                       -0.006601  -0.172655         0.110591   \n",
       "Floor Space                 -0.096698  -0.049285         0.627324   \n",
       "Window                      -0.091651  -0.048992         0.628509   \n",
       "Demographic score            0.099587  -0.014967         0.041849   \n",
       "40min population             0.432857  -0.191329        -0.018234   \n",
       "30 min population            0.667031  -0.098829        -0.093048   \n",
       "20 min population            0.807882  -0.046910        -0.085887   \n",
       "10 min population            1.000000  -0.103815        -0.053129   \n",
       "Store age                   -0.103815   1.000000        -0.037935   \n",
       "Clearance space             -0.053129  -0.037935         1.000000   \n",
       "Competition number          -0.039108  -0.063024         0.047191   \n",
       "Competition score            0.068781  -0.109725         0.156431   \n",
       "\n",
       "                    Competition number  Competition score  \n",
       "Staff                         0.034571           0.123579  \n",
       "Floor Space                   0.073559           0.091447  \n",
       "Window                        0.074034           0.104551  \n",
       "Demographic score            -0.100716          -0.072325  \n",
       "40min population             -0.004326           0.040554  \n",
       "30 min population            -0.054191           0.046811  \n",
       "20 min population            -0.081947           0.008492  \n",
       "10 min population            -0.039108           0.068781  \n",
       "Store age                    -0.063024          -0.109725  \n",
       "Clearance space               0.047191           0.156431  \n",
       "Competition number            1.000000          -0.011215  \n",
       "Competition score            -0.011215           1.000000  "
      ]
     },
     "execution_count": 15,
     "metadata": {},
     "output_type": "execute_result"
    }
   ],
   "source": [
    "# Find the correlation between our independent variables\n",
    "corr_matrix = store_data.corr()\n",
    "corr_matrix "
   ]
  },
  {
   "cell_type": "code",
   "execution_count": 16,
   "metadata": {},
   "outputs": [
    {
     "data": {
      "image/png": "[encoded data removed]",
      "text/plain": [
       "<Figure size 1080x720 with 2 Axes>"
      ]
     },
     "metadata": {
      "needs_background": "light"
     },
     "output_type": "display_data"
    }
   ],
   "source": [
    "# Let's make it look a little prettier\n",
    "corr_matrix = store_data.corr()\n",
    "plt.figure(figsize=(15, 10))\n",
    "sns.heatmap(corr_matrix, \n",
    "            annot=True, \n",
    "            linewidths=0.5, \n",
    "            fmt= \".2f\", \n",
    "            cmap=\"YlGnBu\");"
   ]
  },
  {
   "cell_type": "code",
   "execution_count": 17,
   "metadata": {},
   "outputs": [
    {
     "data": {
      "text/plain": [
       "Staff                  int64\n",
       "Floor Space            int64\n",
       "Window                 int64\n",
       "Car park              object\n",
       "Demographic score      int64\n",
       "Location              object\n",
       "40min population       int64\n",
       "30 min population      int64\n",
       "20 min population      int64\n",
       "10 min population      int64\n",
       "Store age              int64\n",
       "Clearance space        int64\n",
       "Competition number     int64\n",
       "Competition score      int64\n",
       "Performance           object\n",
       "dtype: object"
      ]
     },
     "execution_count": 17,
     "metadata": {},
     "output_type": "execute_result"
    }
   ],
   "source": [
    "store_data['Car park'] = store_data['Car park'].map({'Yes':'Y' ,'No':'N'})\n",
    "store_data.dtypes"
   ]
  },
  {
   "cell_type": "code",
   "execution_count": 18,
   "metadata": {},
   "outputs": [
    {
     "data": {
      "image/png": "[encoded data removed]",
      "text/plain": [
       "<Figure size 432x288 with 1 Axes>"
      ]
     },
     "metadata": {
      "needs_background": "light"
     },
     "output_type": "display_data"
    }
   ],
   "source": [
    "store_data.groupby(['Car park','Performance']).size().unstack().plot(kind='bar',stacked=True)\n",
    "plt.show()"
   ]
  },
  {
   "cell_type": "code",
   "execution_count": 19,
   "metadata": {},
   "outputs": [
    {
     "data": {
      "text/html": [
       "<div>\n",
       "<style scoped>\n",
       "    .dataframe tbody tr th:only-of-type {\n",
       "        vertical-align: middle;\n",
       "    }\n",
       "\n",
       "    .dataframe tbody tr th {\n",
       "        vertical-align: top;\n",
       "    }\n",
       "\n",
       "    .dataframe thead th {\n",
       "        text-align: right;\n",
       "    }\n",
       "</style>\n",
       "<table border=\"1\" class=\"dataframe\">\n",
       "  <thead>\n",
       "    <tr style=\"text-align: right;\">\n",
       "      <th></th>\n",
       "      <th>Staff</th>\n",
       "      <th>Floor Space</th>\n",
       "      <th>Window</th>\n",
       "      <th>Car park</th>\n",
       "      <th>Demographic score</th>\n",
       "      <th>Location</th>\n",
       "      <th>40min population</th>\n",
       "      <th>30 min population</th>\n",
       "      <th>20 min population</th>\n",
       "      <th>10 min population</th>\n",
       "      <th>Store age</th>\n",
       "      <th>Clearance space</th>\n",
       "      <th>Competition number</th>\n",
       "      <th>Competition score</th>\n",
       "      <th>Performance</th>\n",
       "    </tr>\n",
       "  </thead>\n",
       "  <tbody>\n",
       "    <tr>\n",
       "      <th>0</th>\n",
       "      <td>9</td>\n",
       "      <td>18526</td>\n",
       "      <td>121</td>\n",
       "      <td>Y</td>\n",
       "      <td>10</td>\n",
       "      <td>Retail Park</td>\n",
       "      <td>1288374</td>\n",
       "      <td>1138224</td>\n",
       "      <td>1006986</td>\n",
       "      <td>1002340</td>\n",
       "      <td>3</td>\n",
       "      <td>238</td>\n",
       "      <td>16</td>\n",
       "      <td>16</td>\n",
       "      <td>Good</td>\n",
       "    </tr>\n",
       "    <tr>\n",
       "      <th>1</th>\n",
       "      <td>8</td>\n",
       "      <td>18569</td>\n",
       "      <td>121</td>\n",
       "      <td>Y</td>\n",
       "      <td>11</td>\n",
       "      <td>Shopping Centre</td>\n",
       "      <td>1086225</td>\n",
       "      <td>1015321</td>\n",
       "      <td>1012182</td>\n",
       "      <td>1008436</td>\n",
       "      <td>4</td>\n",
       "      <td>384</td>\n",
       "      <td>15</td>\n",
       "      <td>19</td>\n",
       "      <td>Good</td>\n",
       "    </tr>\n",
       "    <tr>\n",
       "      <th>2</th>\n",
       "      <td>0</td>\n",
       "      <td>12288</td>\n",
       "      <td>105</td>\n",
       "      <td>N</td>\n",
       "      <td>12</td>\n",
       "      <td>Retail Park</td>\n",
       "      <td>1595638</td>\n",
       "      <td>1281661</td>\n",
       "      <td>1104490</td>\n",
       "      <td>1011395</td>\n",
       "      <td>11</td>\n",
       "      <td>219</td>\n",
       "      <td>13</td>\n",
       "      <td>18</td>\n",
       "      <td>Bad</td>\n",
       "    </tr>\n",
       "    <tr>\n",
       "      <th>3</th>\n",
       "      <td>7</td>\n",
       "      <td>17092</td>\n",
       "      <td>117</td>\n",
       "      <td>N</td>\n",
       "      <td>14</td>\n",
       "      <td>High Street</td>\n",
       "      <td>1179395</td>\n",
       "      <td>1022959</td>\n",
       "      <td>1009496</td>\n",
       "      <td>1002169</td>\n",
       "      <td>5</td>\n",
       "      <td>261</td>\n",
       "      <td>15</td>\n",
       "      <td>12</td>\n",
       "      <td>Bad</td>\n",
       "    </tr>\n",
       "    <tr>\n",
       "      <th>4</th>\n",
       "      <td>7</td>\n",
       "      <td>11307</td>\n",
       "      <td>103</td>\n",
       "      <td>N</td>\n",
       "      <td>18</td>\n",
       "      <td>Retail Park</td>\n",
       "      <td>1398558</td>\n",
       "      <td>1085170</td>\n",
       "      <td>1003137</td>\n",
       "      <td>1002513</td>\n",
       "      <td>7</td>\n",
       "      <td>200</td>\n",
       "      <td>19</td>\n",
       "      <td>13</td>\n",
       "      <td>Bad</td>\n",
       "    </tr>\n",
       "  </tbody>\n",
       "</table>\n",
       "</div>"
      ],
      "text/plain": [
       "   Staff  Floor Space  Window Car park  Demographic score         Location  \\\n",
       "0      9        18526     121        Y                 10      Retail Park   \n",
       "1      8        18569     121        Y                 11  Shopping Centre   \n",
       "2      0        12288     105        N                 12      Retail Park   \n",
       "3      7        17092     117        N                 14      High Street   \n",
       "4      7        11307     103        N                 18      Retail Park   \n",
       "\n",
       "   40min population  30 min population  20 min population  10 min population  \\\n",
       "0           1288374            1138224            1006986            1002340   \n",
       "1           1086225            1015321            1012182            1008436   \n",
       "2           1595638            1281661            1104490            1011395   \n",
       "3           1179395            1022959            1009496            1002169   \n",
       "4           1398558            1085170            1003137            1002513   \n",
       "\n",
       "   Store age  Clearance space  Competition number  Competition score  \\\n",
       "0          3              238                  16                 16   \n",
       "1          4              384                  15                 19   \n",
       "2         11              219                  13                 18   \n",
       "3          5              261                  15                 12   \n",
       "4          7              200                  19                 13   \n",
       "\n",
       "  Performance  \n",
       "0        Good  \n",
       "1        Good  \n",
       "2         Bad  \n",
       "3         Bad  \n",
       "4         Bad  "
      ]
     },
     "execution_count": 19,
     "metadata": {},
     "output_type": "execute_result"
    }
   ],
   "source": [
    "num = store_data._get_numeric_data()\n",
    "num[num < 0] = 0\n",
    "store_data.head()"
   ]
  },
  {
   "cell_type": "code",
   "execution_count": 20,
   "metadata": {},
   "outputs": [],
   "source": [
    "d2={'Retail Park': 1,'Shopping Centre': 2,'High Street': 3,'Village': 4}\n",
    "store_data['Location']=store_data['Location'].map(d2)\n",
    "\n",
    "d3={'Good': 1,'Bad': 2}\n",
    "store_data['Performance']=store_data['Performance'].map(d3)\n",
    "\n",
    "store_data['Car park'] = np.where(store_data['Car park'] == 'N', 1, 2)\n",
    "\n",
    "store_data=store_data.drop(['Car park'], axis = 1)"
   ]
  },
  {
   "cell_type": "code",
   "execution_count": 21,
   "metadata": {},
   "outputs": [
    {
     "data": {
      "text/html": [
       "<div>\n",
       "<style scoped>\n",
       "    .dataframe tbody tr th:only-of-type {\n",
       "        vertical-align: middle;\n",
       "    }\n",
       "\n",
       "    .dataframe tbody tr th {\n",
       "        vertical-align: top;\n",
       "    }\n",
       "\n",
       "    .dataframe thead th {\n",
       "        text-align: right;\n",
       "    }\n",
       "</style>\n",
       "<table border=\"1\" class=\"dataframe\">\n",
       "  <thead>\n",
       "    <tr style=\"text-align: right;\">\n",
       "      <th></th>\n",
       "      <th>Staff</th>\n",
       "      <th>Floor Space</th>\n",
       "      <th>Window</th>\n",
       "      <th>Demographic score</th>\n",
       "      <th>Location</th>\n",
       "      <th>40min population</th>\n",
       "      <th>30 min population</th>\n",
       "      <th>20 min population</th>\n",
       "      <th>10 min population</th>\n",
       "      <th>Store age</th>\n",
       "      <th>Clearance space</th>\n",
       "      <th>Competition number</th>\n",
       "      <th>Competition score</th>\n",
       "      <th>Performance</th>\n",
       "    </tr>\n",
       "  </thead>\n",
       "  <tbody>\n",
       "    <tr>\n",
       "      <th>0</th>\n",
       "      <td>9</td>\n",
       "      <td>18526</td>\n",
       "      <td>121</td>\n",
       "      <td>10</td>\n",
       "      <td>1</td>\n",
       "      <td>1288374</td>\n",
       "      <td>1138224</td>\n",
       "      <td>1006986</td>\n",
       "      <td>1002340</td>\n",
       "      <td>3</td>\n",
       "      <td>238</td>\n",
       "      <td>16</td>\n",
       "      <td>16</td>\n",
       "      <td>1</td>\n",
       "    </tr>\n",
       "    <tr>\n",
       "      <th>1</th>\n",
       "      <td>8</td>\n",
       "      <td>18569</td>\n",
       "      <td>121</td>\n",
       "      <td>11</td>\n",
       "      <td>2</td>\n",
       "      <td>1086225</td>\n",
       "      <td>1015321</td>\n",
       "      <td>1012182</td>\n",
       "      <td>1008436</td>\n",
       "      <td>4</td>\n",
       "      <td>384</td>\n",
       "      <td>15</td>\n",
       "      <td>19</td>\n",
       "      <td>1</td>\n",
       "    </tr>\n",
       "    <tr>\n",
       "      <th>2</th>\n",
       "      <td>0</td>\n",
       "      <td>12288</td>\n",
       "      <td>105</td>\n",
       "      <td>12</td>\n",
       "      <td>1</td>\n",
       "      <td>1595638</td>\n",
       "      <td>1281661</td>\n",
       "      <td>1104490</td>\n",
       "      <td>1011395</td>\n",
       "      <td>11</td>\n",
       "      <td>219</td>\n",
       "      <td>13</td>\n",
       "      <td>18</td>\n",
       "      <td>2</td>\n",
       "    </tr>\n",
       "    <tr>\n",
       "      <th>3</th>\n",
       "      <td>7</td>\n",
       "      <td>17092</td>\n",
       "      <td>117</td>\n",
       "      <td>14</td>\n",
       "      <td>3</td>\n",
       "      <td>1179395</td>\n",
       "      <td>1022959</td>\n",
       "      <td>1009496</td>\n",
       "      <td>1002169</td>\n",
       "      <td>5</td>\n",
       "      <td>261</td>\n",
       "      <td>15</td>\n",
       "      <td>12</td>\n",
       "      <td>2</td>\n",
       "    </tr>\n",
       "    <tr>\n",
       "      <th>4</th>\n",
       "      <td>7</td>\n",
       "      <td>11307</td>\n",
       "      <td>103</td>\n",
       "      <td>18</td>\n",
       "      <td>1</td>\n",
       "      <td>1398558</td>\n",
       "      <td>1085170</td>\n",
       "      <td>1003137</td>\n",
       "      <td>1002513</td>\n",
       "      <td>7</td>\n",
       "      <td>200</td>\n",
       "      <td>19</td>\n",
       "      <td>13</td>\n",
       "      <td>2</td>\n",
       "    </tr>\n",
       "  </tbody>\n",
       "</table>\n",
       "</div>"
      ],
      "text/plain": [
       "   Staff  Floor Space  Window  Demographic score  Location  40min population  \\\n",
       "0      9        18526     121                 10         1           1288374   \n",
       "1      8        18569     121                 11         2           1086225   \n",
       "2      0        12288     105                 12         1           1595638   \n",
       "3      7        17092     117                 14         3           1179395   \n",
       "4      7        11307     103                 18         1           1398558   \n",
       "\n",
       "   30 min population  20 min population  10 min population  Store age  \\\n",
       "0            1138224            1006986            1002340          3   \n",
       "1            1015321            1012182            1008436          4   \n",
       "2            1281661            1104490            1011395         11   \n",
       "3            1022959            1009496            1002169          5   \n",
       "4            1085170            1003137            1002513          7   \n",
       "\n",
       "   Clearance space  Competition number  Competition score  Performance  \n",
       "0              238                  16                 16            1  \n",
       "1              384                  15                 19            1  \n",
       "2              219                  13                 18            2  \n",
       "3              261                  15                 12            2  \n",
       "4              200                  19                 13            2  "
      ]
     },
     "execution_count": 21,
     "metadata": {},
     "output_type": "execute_result"
    }
   ],
   "source": [
    "store_data.head()"
   ]
  },
  {
   "cell_type": "code",
   "execution_count": 22,
   "metadata": {},
   "outputs": [
    {
     "data": {
      "text/plain": [
       "Staff                 int64\n",
       "Floor Space           int64\n",
       "Window                int64\n",
       "Demographic score     int64\n",
       "Location              int64\n",
       "40min population      int64\n",
       "30 min population     int64\n",
       "20 min population     int64\n",
       "10 min population     int64\n",
       "Store age             int64\n",
       "Clearance space       int64\n",
       "Competition number    int64\n",
       "Competition score     int64\n",
       "Performance           int64\n",
       "dtype: object"
      ]
     },
     "execution_count": 22,
     "metadata": {},
     "output_type": "execute_result"
    }
   ],
   "source": [
    "store_data.dtypes"
   ]
  },
  {
   "cell_type": "code",
   "execution_count": 23,
   "metadata": {},
   "outputs": [],
   "source": [
    "# Everything except target variable\n",
    "X = store_data.drop(\"Performance\", axis=1)\n",
    "\n",
    "# Performance variable\n",
    "y = store_data.Performance.values"
   ]
  },
  {
   "cell_type": "code",
   "execution_count": 24,
   "metadata": {},
   "outputs": [],
   "source": [
    "# Random seed for reproducibility\n",
    "np.random.seed(42)\n",
    "\n",
    "# Split into train & test set\n",
    "X_train, X_test, y_train, y_test = train_test_split(X, # independent variables \n",
    "                                                    y, # dependent variable\n",
    "                                                    test_size = 0.3) # percentage of data to use for test set"
   ]
  },
  {
   "cell_type": "code",
   "execution_count": 25,
   "metadata": {},
   "outputs": [
    {
     "data": {
      "text/html": [
       "<div>\n",
       "<style scoped>\n",
       "    .dataframe tbody tr th:only-of-type {\n",
       "        vertical-align: middle;\n",
       "    }\n",
       "\n",
       "    .dataframe tbody tr th {\n",
       "        vertical-align: top;\n",
       "    }\n",
       "\n",
       "    .dataframe thead th {\n",
       "        text-align: right;\n",
       "    }\n",
       "</style>\n",
       "<table border=\"1\" class=\"dataframe\">\n",
       "  <thead>\n",
       "    <tr style=\"text-align: right;\">\n",
       "      <th></th>\n",
       "      <th>Staff</th>\n",
       "      <th>Floor Space</th>\n",
       "      <th>Window</th>\n",
       "      <th>Demographic score</th>\n",
       "      <th>Location</th>\n",
       "      <th>40min population</th>\n",
       "      <th>30 min population</th>\n",
       "      <th>20 min population</th>\n",
       "      <th>10 min population</th>\n",
       "      <th>Store age</th>\n",
       "      <th>Clearance space</th>\n",
       "      <th>Competition number</th>\n",
       "      <th>Competition score</th>\n",
       "    </tr>\n",
       "  </thead>\n",
       "  <tbody>\n",
       "    <tr>\n",
       "      <th>15</th>\n",
       "      <td>6</td>\n",
       "      <td>11824</td>\n",
       "      <td>104</td>\n",
       "      <td>14</td>\n",
       "      <td>3</td>\n",
       "      <td>1043277</td>\n",
       "      <td>1004546</td>\n",
       "      <td>1001718</td>\n",
       "      <td>1000627</td>\n",
       "      <td>6</td>\n",
       "      <td>225</td>\n",
       "      <td>11</td>\n",
       "      <td>19</td>\n",
       "    </tr>\n",
       "    <tr>\n",
       "      <th>83</th>\n",
       "      <td>5</td>\n",
       "      <td>16652</td>\n",
       "      <td>116</td>\n",
       "      <td>12</td>\n",
       "      <td>3</td>\n",
       "      <td>1931932</td>\n",
       "      <td>1547591</td>\n",
       "      <td>1547000</td>\n",
       "      <td>1298080</td>\n",
       "      <td>6</td>\n",
       "      <td>280</td>\n",
       "      <td>17</td>\n",
       "      <td>14</td>\n",
       "    </tr>\n",
       "    <tr>\n",
       "      <th>39</th>\n",
       "      <td>5</td>\n",
       "      <td>13127</td>\n",
       "      <td>107</td>\n",
       "      <td>16</td>\n",
       "      <td>3</td>\n",
       "      <td>1171849</td>\n",
       "      <td>1084983</td>\n",
       "      <td>1006564</td>\n",
       "      <td>1003013</td>\n",
       "      <td>7</td>\n",
       "      <td>235</td>\n",
       "      <td>19</td>\n",
       "      <td>10</td>\n",
       "    </tr>\n",
       "    <tr>\n",
       "      <th>22</th>\n",
       "      <td>7</td>\n",
       "      <td>18535</td>\n",
       "      <td>121</td>\n",
       "      <td>13</td>\n",
       "      <td>3</td>\n",
       "      <td>1182360</td>\n",
       "      <td>1077124</td>\n",
       "      <td>1049837</td>\n",
       "      <td>1014968</td>\n",
       "      <td>9</td>\n",
       "      <td>266</td>\n",
       "      <td>11</td>\n",
       "      <td>18</td>\n",
       "    </tr>\n",
       "    <tr>\n",
       "      <th>85</th>\n",
       "      <td>6</td>\n",
       "      <td>14497</td>\n",
       "      <td>111</td>\n",
       "      <td>17</td>\n",
       "      <td>3</td>\n",
       "      <td>1537976</td>\n",
       "      <td>1447127</td>\n",
       "      <td>1244066</td>\n",
       "      <td>1046174</td>\n",
       "      <td>5</td>\n",
       "      <td>311</td>\n",
       "      <td>17</td>\n",
       "      <td>18</td>\n",
       "    </tr>\n",
       "  </tbody>\n",
       "</table>\n",
       "</div>"
      ],
      "text/plain": [
       "    Staff  Floor Space  Window  Demographic score  Location  40min population  \\\n",
       "15      6        11824     104                 14         3           1043277   \n",
       "83      5        16652     116                 12         3           1931932   \n",
       "39      5        13127     107                 16         3           1171849   \n",
       "22      7        18535     121                 13         3           1182360   \n",
       "85      6        14497     111                 17         3           1537976   \n",
       "\n",
       "    30 min population  20 min population  10 min population  Store age  \\\n",
       "15            1004546            1001718            1000627          6   \n",
       "83            1547591            1547000            1298080          6   \n",
       "39            1084983            1006564            1003013          7   \n",
       "22            1077124            1049837            1014968          9   \n",
       "85            1447127            1244066            1046174          5   \n",
       "\n",
       "    Clearance space  Competition number  Competition score  \n",
       "15              225                  11                 19  \n",
       "83              280                  17                 14  \n",
       "39              235                  19                 10  \n",
       "22              266                  11                 18  \n",
       "85              311                  17                 18  "
      ]
     },
     "execution_count": 25,
     "metadata": {},
     "output_type": "execute_result"
    }
   ],
   "source": [
    "X_train.head()"
   ]
  },
  {
   "cell_type": "code",
   "execution_count": 26,
   "metadata": {},
   "outputs": [
    {
     "data": {
      "text/plain": [
       "(array([2, 2, 2, 1, 2, 1, 1, 2, 2, 2, 1, 1, 2, 2, 2, 1, 2, 1, 1, 2, 1, 1,\n",
       "        1, 1, 2, 2, 1, 1, 1, 1, 1, 2, 1, 1, 2, 1, 1, 1, 2, 2, 1, 1, 2, 2,\n",
       "        1, 2, 1, 2, 2, 2, 2, 2, 1, 2, 1, 2, 1, 2, 2, 2, 1, 1, 2, 2, 2, 2,\n",
       "        2, 2, 1, 1, 1, 2, 1, 2, 1, 1, 1, 2, 1, 1, 2, 2, 1, 1, 1, 2, 1, 2,\n",
       "        1, 1, 2, 2, 2, 2, 1], dtype=int64),\n",
       " 95)"
      ]
     },
     "execution_count": 26,
     "metadata": {},
     "output_type": "execute_result"
    }
   ],
   "source": [
    "y_train, len(y_train)"
   ]
  },
  {
   "cell_type": "code",
   "execution_count": 27,
   "metadata": {
    "scrolled": true
   },
   "outputs": [
    {
     "data": {
      "text/html": [
       "<div>\n",
       "<style scoped>\n",
       "    .dataframe tbody tr th:only-of-type {\n",
       "        vertical-align: middle;\n",
       "    }\n",
       "\n",
       "    .dataframe tbody tr th {\n",
       "        vertical-align: top;\n",
       "    }\n",
       "\n",
       "    .dataframe thead th {\n",
       "        text-align: right;\n",
       "    }\n",
       "</style>\n",
       "<table border=\"1\" class=\"dataframe\">\n",
       "  <thead>\n",
       "    <tr style=\"text-align: right;\">\n",
       "      <th></th>\n",
       "      <th>Staff</th>\n",
       "      <th>Floor Space</th>\n",
       "      <th>Window</th>\n",
       "      <th>Demographic score</th>\n",
       "      <th>Location</th>\n",
       "      <th>40min population</th>\n",
       "      <th>30 min population</th>\n",
       "      <th>20 min population</th>\n",
       "      <th>10 min population</th>\n",
       "      <th>Store age</th>\n",
       "      <th>Clearance space</th>\n",
       "      <th>Competition number</th>\n",
       "      <th>Competition score</th>\n",
       "    </tr>\n",
       "  </thead>\n",
       "  <tbody>\n",
       "    <tr>\n",
       "      <th>73</th>\n",
       "      <td>5</td>\n",
       "      <td>13989</td>\n",
       "      <td>109</td>\n",
       "      <td>19</td>\n",
       "      <td>1</td>\n",
       "      <td>1087241</td>\n",
       "      <td>1026797</td>\n",
       "      <td>1010491</td>\n",
       "      <td>1001526</td>\n",
       "      <td>8</td>\n",
       "      <td>247</td>\n",
       "      <td>12</td>\n",
       "      <td>18</td>\n",
       "    </tr>\n",
       "    <tr>\n",
       "      <th>45</th>\n",
       "      <td>9</td>\n",
       "      <td>14948</td>\n",
       "      <td>112</td>\n",
       "      <td>15</td>\n",
       "      <td>3</td>\n",
       "      <td>1892976</td>\n",
       "      <td>1100161</td>\n",
       "      <td>1053955</td>\n",
       "      <td>1005729</td>\n",
       "      <td>4</td>\n",
       "      <td>263</td>\n",
       "      <td>19</td>\n",
       "      <td>17</td>\n",
       "    </tr>\n",
       "    <tr>\n",
       "      <th>60</th>\n",
       "      <td>5</td>\n",
       "      <td>12604</td>\n",
       "      <td>106</td>\n",
       "      <td>12</td>\n",
       "      <td>2</td>\n",
       "      <td>1359135</td>\n",
       "      <td>1218693</td>\n",
       "      <td>1145770</td>\n",
       "      <td>1067001</td>\n",
       "      <td>10</td>\n",
       "      <td>242</td>\n",
       "      <td>12</td>\n",
       "      <td>15</td>\n",
       "    </tr>\n",
       "    <tr>\n",
       "      <th>42</th>\n",
       "      <td>7</td>\n",
       "      <td>11441</td>\n",
       "      <td>103</td>\n",
       "      <td>13</td>\n",
       "      <td>2</td>\n",
       "      <td>1772431</td>\n",
       "      <td>1331168</td>\n",
       "      <td>1140500</td>\n",
       "      <td>1051557</td>\n",
       "      <td>11</td>\n",
       "      <td>207</td>\n",
       "      <td>10</td>\n",
       "      <td>13</td>\n",
       "    </tr>\n",
       "    <tr>\n",
       "      <th>128</th>\n",
       "      <td>9</td>\n",
       "      <td>13908</td>\n",
       "      <td>109</td>\n",
       "      <td>18</td>\n",
       "      <td>2</td>\n",
       "      <td>1586575</td>\n",
       "      <td>1021914</td>\n",
       "      <td>1017342</td>\n",
       "      <td>1013646</td>\n",
       "      <td>8</td>\n",
       "      <td>268</td>\n",
       "      <td>13</td>\n",
       "      <td>17</td>\n",
       "    </tr>\n",
       "  </tbody>\n",
       "</table>\n",
       "</div>"
      ],
      "text/plain": [
       "     Staff  Floor Space  Window  Demographic score  Location  \\\n",
       "73       5        13989     109                 19         1   \n",
       "45       9        14948     112                 15         3   \n",
       "60       5        12604     106                 12         2   \n",
       "42       7        11441     103                 13         2   \n",
       "128      9        13908     109                 18         2   \n",
       "\n",
       "     40min population  30 min population  20 min population  \\\n",
       "73            1087241            1026797            1010491   \n",
       "45            1892976            1100161            1053955   \n",
       "60            1359135            1218693            1145770   \n",
       "42            1772431            1331168            1140500   \n",
       "128           1586575            1021914            1017342   \n",
       "\n",
       "     10 min population  Store age  Clearance space  Competition number  \\\n",
       "73             1001526          8              247                  12   \n",
       "45             1005729          4              263                  19   \n",
       "60             1067001         10              242                  12   \n",
       "42             1051557         11              207                  10   \n",
       "128            1013646          8              268                  13   \n",
       "\n",
       "     Competition score  \n",
       "73                  18  \n",
       "45                  17  \n",
       "60                  15  \n",
       "42                  13  \n",
       "128                 17  "
      ]
     },
     "execution_count": 27,
     "metadata": {},
     "output_type": "execute_result"
    }
   ],
   "source": [
    "X_test.head()"
   ]
  },
  {
   "cell_type": "code",
   "execution_count": 28,
   "metadata": {},
   "outputs": [
    {
     "data": {
      "text/plain": [
       "(array([1, 1, 1, 2, 1, 2, 1, 2, 1, 2, 1, 2, 1, 1, 2, 1, 2, 1, 2, 2, 2, 2,\n",
       "        1, 1, 1, 1, 1, 1, 2, 2, 1, 2, 2, 2, 1, 1, 2, 1, 2, 1, 2],\n",
       "       dtype=int64),\n",
       " 41)"
      ]
     },
     "execution_count": 28,
     "metadata": {},
     "output_type": "execute_result"
    }
   ],
   "source": [
    "y_test, len(y_test)"
   ]
  },
  {
   "cell_type": "code",
   "execution_count": 29,
   "metadata": {},
   "outputs": [
    {
     "data": {
      "text/plain": [
       "Staff                 int64\n",
       "Floor Space           int64\n",
       "Window                int64\n",
       "Demographic score     int64\n",
       "Location              int64\n",
       "40min population      int64\n",
       "30 min population     int64\n",
       "20 min population     int64\n",
       "10 min population     int64\n",
       "Store age             int64\n",
       "Clearance space       int64\n",
       "Competition number    int64\n",
       "Competition score     int64\n",
       "dtype: object"
      ]
     },
     "execution_count": 29,
     "metadata": {},
     "output_type": "execute_result"
    }
   ],
   "source": [
    "X_train.dtypes"
   ]
  },
  {
   "cell_type": "code",
   "execution_count": 30,
   "metadata": {},
   "outputs": [],
   "source": [
    "# Create dictionaries with model\n",
    "models = {\"MLP\": MLPClassifier(),\n",
    "          \"Logistic Regression\": LogisticRegression(), \n",
    "          \"Decision Tree\": DecisionTreeClassifier()}\n",
    "\n",
    "# Common function to fit and score for given models\n",
    "def fitAndScore(models, X_train, X_test, y_train, y_test):\n",
    "    # Random seed\n",
    "    np.random.seed(42)\n",
    "    scores = {}\n",
    "    \n",
    "    # Loop through models\n",
    "    for name, model in models.items():\n",
    "        # Fit the model \n",
    "        model.fit(X_train, y_train)\n",
    "        # score it and storing it model_scores\n",
    "        scores[name] = model.score(X_test, y_test)\n",
    "    return scores"
   ]
  },
  {
   "cell_type": "code",
   "execution_count": 31,
   "metadata": {},
   "outputs": [
    {
     "data": {
      "text/plain": [
       "{'MLP': 0.5853658536585366,\n",
       " 'Logistic Regression': 0.5609756097560976,\n",
       " 'Decision Tree': 0.4878048780487805}"
      ]
     },
     "execution_count": 31,
     "metadata": {},
     "output_type": "execute_result"
    }
   ],
   "source": [
    "model_scores = fitAndScore(models=models,\n",
    "                             X_train=X_train,\n",
    "                             X_test=X_test,\n",
    "                             y_train=y_train,\n",
    "                             y_test=y_test)\n",
    "model_scores"
   ]
  },
  {
   "cell_type": "code",
   "execution_count": 32,
   "metadata": {},
   "outputs": [
    {
     "data": {
      "text/plain": [
       "[Text(0.5, 1.0, 'Accuracy percentage before hyperparameters tunning'),\n",
       " Text(0.5, 0, 'Model Name'),\n",
       " Text(0, 0.5, 'Accuracy Percentage')]"
      ]
     },
     "execution_count": 32,
     "metadata": {},
     "output_type": "execute_result"
    },
    {
     "data": {
      "image/png": "[encoded data removed]",
      "text/plain": [
       "<Figure size 576x432 with 1 Axes>"
      ]
     },
     "metadata": {
      "needs_background": "light"
     },
     "output_type": "display_data"
    }
   ],
   "source": [
    "# model_compare = pd.DataFrame(model_scores, index=['accuracy'])\n",
    "# model_compare.T.plot.bar();\n",
    "\n",
    "inputdict = {}\n",
    "for key, value in model_scores.items():\n",
    "    # do something with value\n",
    "    inputdict[key] = value * 100\n",
    "\n",
    "fig, ax = plt.subplots(figsize=(8,6))\n",
    "ax.bar(inputdict.keys(), inputdict.values())\n",
    "\n",
    "# Add a title, xlabel and ylabel to the plot\n",
    "ax.set(title=\"Accuracy percentage before hyperparameters tunning\",\n",
    "       xlabel=\"Model Name\",\n",
    "       ylabel=\"Accuracy Percentage\")"
   ]
  },
  {
   "cell_type": "code",
   "execution_count": 33,
   "metadata": {},
   "outputs": [],
   "source": [
    "# Different DecisionTreeClassifier hyperparameters\n",
    "import random\n",
    "de_tree_params = {\"max_depth\": [3, None],\n",
    "              \"max_features\":  ('auto', 'sqrt', 'log2'),\n",
    "              \"min_samples_leaf\": (1,2,3,4,5,6,7,8,9),\n",
    "              'min_samples_split' : (2,4,6,8,10,20),\n",
    "              \"criterion\": [\"gini\", \"entropy\"]}\n",
    "\n",
    "np.random.seed(42)\n",
    "gs_de_tree = GridSearchCV(DecisionTreeClassifier(), de_tree_params, cv=5)\n",
    "\n",
    "# Fit Grid Search hyperparameter search model\n",
    "gs_de_tree.fit(X_train, y_train);"
   ]
  },
  {
   "cell_type": "code",
   "execution_count": 34,
   "metadata": {},
   "outputs": [
    {
     "name": "stdout",
     "output_type": "stream",
     "text": [
      "Decision Tree using GridSearchCV: {'criterion': 'entropy', 'max_depth': 3, 'max_features': 'sqrt', 'min_samples_leaf': 8, 'min_samples_split': 2}\n",
      "0.7263157894736842\n"
     ]
    }
   ],
   "source": [
    "# Print the tuned parameters and score\n",
    "print(\"Decision Tree using GridSearchCV: {}\".format(gs_de_tree.best_params_))\n",
    "print(gs_de_tree.best_score_)"
   ]
  },
  {
   "cell_type": "code",
   "execution_count": 35,
   "metadata": {},
   "outputs": [
    {
     "data": {
      "text/plain": [
       "array([1, 1, 1, 2, 1, 1, 2, 1, 2, 1, 1, 1, 1, 1, 2, 2, 2, 1, 2, 2, 2, 1,\n",
       "       2, 2, 1, 1, 1, 1, 2, 2, 2, 2, 2, 2, 1, 2, 2, 1, 1, 1, 1],\n",
       "      dtype=int64)"
      ]
     },
     "execution_count": 35,
     "metadata": {},
     "output_type": "execute_result"
    }
   ],
   "source": [
    "# Now use the best_params_ found above and try to fit the model and predict the score\n",
    "np.random.seed(42)\n",
    "final_decison_tree = DecisionTreeClassifier(criterion=\"entropy\", \n",
    "                                            max_depth=3, \n",
    "                                            max_features=\"sqrt\", \n",
    "                                            min_samples_leaf=8, \n",
    "                                            min_samples_split=2)\n",
    "\n",
    "final_decison_tree.fit(X_train, y_train)\n",
    "\n",
    "y_pred=final_decison_tree.predict(X_test)\n",
    "y_pred"
   ]
  },
  {
   "cell_type": "code",
   "execution_count": 65,
   "metadata": {},
   "outputs": [
    {
     "name": "stdout",
     "output_type": "stream",
     "text": [
      "Accuracy: 0.4878048780487805\n"
     ]
    },
    {
     "data": {
      "image/png": "[encoded data removed]",
      "text/plain": [
       "<Figure size 432x288 with 1 Axes>"
      ]
     },
     "metadata": {},
     "output_type": "display_data"
    }
   ],
   "source": [
    "print(\"Accuracy:\",metrics.accuracy_score(y_test, y_pred))\n",
    "\n",
    "plot_roc_curve(final_decison_tree, X_test, y_test);"
   ]
  },
  {
   "cell_type": "code",
   "execution_count": 37,
   "metadata": {},
   "outputs": [],
   "source": [
    "y_preds = final_decison_tree.predict(X_test)"
   ]
  },
  {
   "cell_type": "code",
   "execution_count": 38,
   "metadata": {},
   "outputs": [
    {
     "data": {
      "text/plain": [
       "array([1, 1, 1, 2, 1, 1, 2, 1, 2, 1, 1, 1, 1, 1, 2, 2, 2, 1, 2, 2, 2, 1,\n",
       "       2, 2, 1, 1, 1, 1, 2, 2, 2, 2, 2, 2, 1, 2, 2, 1, 1, 1, 1],\n",
       "      dtype=int64)"
      ]
     },
     "execution_count": 38,
     "metadata": {},
     "output_type": "execute_result"
    }
   ],
   "source": [
    "y_preds"
   ]
  },
  {
   "cell_type": "code",
   "execution_count": 39,
   "metadata": {},
   "outputs": [
    {
     "data": {
      "text/plain": [
       "array([1, 1, 1, 2, 1, 2, 1, 2, 1, 2, 1, 2, 1, 1, 2, 1, 2, 1, 2, 2, 2, 2,\n",
       "       1, 1, 1, 1, 1, 1, 2, 2, 1, 2, 2, 2, 1, 1, 2, 1, 2, 1, 2],\n",
       "      dtype=int64)"
      ]
     },
     "execution_count": 39,
     "metadata": {},
     "output_type": "execute_result"
    }
   ],
   "source": [
    "y_test"
   ]
  },
  {
   "cell_type": "code",
   "execution_count": 71,
   "metadata": {},
   "outputs": [
    {
     "data": {
      "text/plain": [
       "0.6566985645933014"
      ]
     },
     "execution_count": 71,
     "metadata": {},
     "output_type": "execute_result"
    }
   ],
   "source": [
    "from sklearn.metrics import roc_curve\n",
    "\n",
    "from sklearn.metrics import roc_auc_score\n",
    "\n",
    "roc_auc_score(y_test, y_preds)"
   ]
  },
  {
   "cell_type": "code",
   "execution_count": 74,
   "metadata": {},
   "outputs": [
    {
     "data": {
      "image/png": "[encoded data removed]",
      "text/plain": [
       "<Figure size 432x288 with 1 Axes>"
      ]
     },
     "metadata": {},
     "output_type": "display_data"
    }
   ],
   "source": [
    "# Plot ROC curve\n",
    "plot_roc_curve(final_decison_tree, X_test, y_test);"
   ]
  },
  {
   "cell_type": "code",
   "execution_count": 41,
   "metadata": {},
   "outputs": [
    {
     "name": "stdout",
     "output_type": "stream",
     "text": [
      "[[15  7]\n",
      " [ 7 12]]\n"
     ]
    }
   ],
   "source": [
    "# Display confusion matrix\n",
    "print(confusion_matrix(y_test, y_preds))"
   ]
  },
  {
   "cell_type": "code",
   "execution_count": 63,
   "metadata": {},
   "outputs": [
    {
     "data": {
      "image/png": "[encoded data removed]",
      "text/plain": [
       "<Figure size 432x432 with 2 Axes>"
      ]
     },
     "metadata": {},
     "output_type": "display_data"
    }
   ],
   "source": [
    "# Import Seaborn\n",
    "import seaborn as sns\n",
    "sns.set(font_scale=1.5) # Increase font size\n",
    "\n",
    "def plot_conf_mat(y_test, y_preds):\n",
    "    \"\"\"\n",
    "    Plots a confusion matrix using Seaborn's heatmap().\n",
    "    \"\"\"\n",
    "    fig, ax = plt.subplots(figsize=(6, 6))\n",
    "    ax = sns.heatmap(confusion_matrix(y_test, y_preds),\n",
    "                     annot=True, # Annotate the boxes\n",
    "                     cbar=True, cmap=\"YlGnBu\")\n",
    "    plt.xlabel(\"original label\")\n",
    "    plt.ylabel(\"predicted label\")\n",
    "    \n",
    "plot_conf_mat(y_test, y_preds)"
   ]
  },
  {
   "cell_type": "code",
   "execution_count": 43,
   "metadata": {},
   "outputs": [
    {
     "name": "stdout",
     "output_type": "stream",
     "text": [
      "              precision    recall  f1-score   support\n",
      "\n",
      "           1       0.68      0.68      0.68        22\n",
      "           2       0.63      0.63      0.63        19\n",
      "\n",
      "    accuracy                           0.66        41\n",
      "   macro avg       0.66      0.66      0.66        41\n",
      "weighted avg       0.66      0.66      0.66        41\n",
      "\n"
     ]
    }
   ],
   "source": [
    "# Show classification report\n",
    "print(classification_report(y_test, y_preds))"
   ]
  },
  {
   "cell_type": "code",
   "execution_count": 44,
   "metadata": {},
   "outputs": [],
   "source": [
    "# Now perform the same thing for logistic regression and below are the hyperparameters and get the score\n",
    "log_reg_grid = {\"C\": np.logspace(-4, 4, 20),\n",
    "                \"solver\": [\"liblinear\"]}\n",
    "\n",
    "# Now perform the same thing for MLP classifier and below are the hyperparameters and get the score\n",
    "parameter_space = {\n",
    "    'hidden_layer_sizes': [(50,50,50), (50,100,50), (100,)],\n",
    "    'activation': ['tanh', 'relu', 'logistic'],\n",
    "    'solver': ['sgd', 'adam', 'lbfgs'],\n",
    "    'alpha': [0.0001, 0.05],\n",
    "    'learning_rate': ['constant','adaptive']}"
   ]
  },
  {
   "cell_type": "code",
   "execution_count": 45,
   "metadata": {},
   "outputs": [],
   "source": [
    "# After performing the hypertuning we need to choose one model on which give us best score"
   ]
  },
  {
   "cell_type": "code",
   "execution_count": 46,
   "metadata": {},
   "outputs": [],
   "source": [
    "# ROC, confusion_matrix and classification report for choosen model"
   ]
  },
  {
   "cell_type": "code",
   "execution_count": 47,
   "metadata": {},
   "outputs": [],
   "source": [
    "# At last, Perform the K fold validation on same model in classification report please check the below url for reference\n",
    "#https://github.com/mrdbourke/zero-to-mastery-ml/blob/master/section-3-structured-data-projects/end-to-end-heart-disease-classification.ipynb"
   ]
  },
  {
   "cell_type": "code",
   "execution_count": 48,
   "metadata": {},
   "outputs": [],
   "source": [
    "# Different LogisticRegression hyperparameters\n",
    "log_reg_grid = {\"C\": np.logspace(-4, 4, 20),\n",
    "                \"solver\": [\"liblinear\"]}\n",
    "\n",
    "np.random.seed(42)\n",
    "gs_log_reg = GridSearchCV(LogisticRegression(), log_reg_grid, cv=5)\n",
    "\n",
    "# Fit Grid Search hyperparameter search model\n",
    "gs_log_reg.fit(X_train, y_train);"
   ]
  },
  {
   "cell_type": "code",
   "execution_count": 49,
   "metadata": {},
   "outputs": [
    {
     "name": "stdout",
     "output_type": "stream",
     "text": [
      "Best Params found for Logistic Regression: {'C': 3792.690190732246, 'solver': 'liblinear'}\n",
      "0.6736842105263158\n"
     ]
    }
   ],
   "source": [
    "print(\"Best Params found for Logistic Regression: {}\".format(gs_log_reg.best_params_))\n",
    "print(gs_log_reg.best_score_)"
   ]
  },
  {
   "cell_type": "code",
   "execution_count": 50,
   "metadata": {},
   "outputs": [
    {
     "data": {
      "text/plain": [
       "array([1, 2, 2, 2, 2, 2, 1, 2, 2, 2, 2, 2, 2, 2, 2, 1, 2, 2, 2, 1, 2, 1,\n",
       "       1, 2, 2, 1, 1, 2, 2, 1, 2, 2, 2, 1, 1, 2, 2, 1, 2, 1, 2],\n",
       "      dtype=int64)"
      ]
     },
     "execution_count": 50,
     "metadata": {},
     "output_type": "execute_result"
    }
   ],
   "source": [
    "# Now use the best_params_ found above and try to fit the model and predict the score\n",
    "np.random.seed(42)\n",
    "final_logistic_reg = LogisticRegression(C=3792.690190732246,\n",
    "                                        solver='liblinear')\n",
    "\n",
    "final_logistic_reg.fit(X_train, y_train)\n",
    "\n",
    "y_pred = final_logistic_reg.predict(X_test)\n",
    "y_pred"
   ]
  },
  {
   "cell_type": "code",
   "execution_count": 51,
   "metadata": {},
   "outputs": [
    {
     "name": "stdout",
     "output_type": "stream",
     "text": [
      "Accuracy: 0.5853658536585366\n"
     ]
    }
   ],
   "source": [
    "print(\"Accuracy:\",metrics.accuracy_score(y_test, y_pred))"
   ]
  },
  {
   "cell_type": "code",
   "execution_count": 52,
   "metadata": {},
   "outputs": [
    {
     "data": {
      "image/png": "[encoded data removed]",
      "text/plain": [
       "<Figure size 432x288 with 1 Axes>"
      ]
     },
     "metadata": {},
     "output_type": "display_data"
    }
   ],
   "source": [
    "from sklearn.metrics import plot_roc_curve\n",
    "\n",
    "# Plot ROC curve and calculate AUC metric\n",
    "plot_roc_curve(final_logistic_reg, X_test, y_test);"
   ]
  },
  {
   "cell_type": "code",
   "execution_count": null,
   "metadata": {},
   "outputs": [],
   "source": []
  },
  {
   "cell_type": "code",
   "execution_count": 53,
   "metadata": {},
   "outputs": [],
   "source": [
    "np.random.seed(42)\n",
    "mlp = MLPClassifier(max_iter=1)\n",
    "\n",
    "parameter_space = {\n",
    "    'hidden_layer_sizes': [(368,), (555,), (100,)],\n",
    "    'activation': ['identity', 'logistic', 'relu'],\n",
    "    'solver': ['sgd', 'adam'],\n",
    "    'alpha': [0.0001, 0.05],\n",
    "    'learning_rate': ['constant','adaptive'],\n",
    "    'max_iter': [200, 1000, 5000, 10000]\n",
    "}\n",
    "\n",
    "\n",
    "gs_clf_mlp = GridSearchCV(mlp, parameter_space, n_jobs=-1, cv=5)\n",
    "gs_clf_mlp.fit(X_train, y_train);"
   ]
  },
  {
   "cell_type": "code",
   "execution_count": 54,
   "metadata": {},
   "outputs": [
    {
     "name": "stdout",
     "output_type": "stream",
     "text": [
      "Tuned MLP Classifier using GridSearchCV: {'activation': 'logistic', 'alpha': 0.0001, 'hidden_layer_sizes': (555,), 'learning_rate': 'constant', 'max_iter': 1000, 'solver': 'sgd'}\n"
     ]
    }
   ],
   "source": [
    "print(\"Tuned MLP Classifier using GridSearchCV: {}\".format(gs_clf_mlp.best_params_))"
   ]
  },
  {
   "cell_type": "code",
   "execution_count": 55,
   "metadata": {},
   "outputs": [
    {
     "data": {
      "text/plain": [
       "array([1, 2, 1, 2, 2, 1, 1, 1, 1, 1, 2, 1, 2, 2, 2, 2, 2, 2, 2, 2, 2, 1,\n",
       "       2, 2, 1, 1, 2, 2, 2, 1, 1, 1, 1, 2, 1, 1, 1, 1, 2, 1, 1],\n",
       "      dtype=int64)"
      ]
     },
     "execution_count": 55,
     "metadata": {},
     "output_type": "execute_result"
    }
   ],
   "source": [
    "np.random.seed(42)\n",
    "final_mlp_clf = MLPClassifier(activation = 'logistic', \n",
    "                              alpha = 0.0001, \n",
    "                              hidden_layer_sizes = (555,), \n",
    "                              learning_rate = 'constant', \n",
    "                              solver='sgd', \n",
    "                              max_iter=10000)\n",
    "\n",
    "final_mlp_clf.fit(X_train, y_train)\n",
    "\n",
    "y_pred = final_mlp_clf.predict(X_test)\n",
    "y_pred"
   ]
  },
  {
   "cell_type": "code",
   "execution_count": 56,
   "metadata": {},
   "outputs": [
    {
     "name": "stdout",
     "output_type": "stream",
     "text": [
      "Accuracy: 0.4878048780487805\n"
     ]
    },
    {
     "data": {
      "image/png": "[encoded data removed]",
      "text/plain": [
       "<Figure size 432x288 with 1 Axes>"
      ]
     },
     "metadata": {},
     "output_type": "display_data"
    }
   ],
   "source": [
    "print(\"Accuracy:\",metrics.accuracy_score(y_test, y_pred))\n",
    "\n",
    "from sklearn.metrics import plot_roc_curve\n",
    "\n",
    "# Plot ROC curve and calculate AUC metric\n",
    "plot_roc_curve(final_mlp_clf, X_test, y_test);"
   ]
  },
  {
   "cell_type": "code",
   "execution_count": 57,
   "metadata": {},
   "outputs": [
    {
     "data": {
      "text/plain": [
       "[Text(0.5, 1.0, 'Accuracy Percentage after hyperparameters tunning'),\n",
       " Text(0.5, 0, 'Model Name'),\n",
       " Text(0, 0.5, 'Accuracy Percentage')]"
      ]
     },
     "execution_count": 57,
     "metadata": {},
     "output_type": "execute_result"
    },
    {
     "data": {
      "image/png": "[encoded data removed]",
      "text/plain": [
       "<Figure size 576x432 with 1 Axes>"
      ]
     },
     "metadata": {},
     "output_type": "display_data"
    }
   ],
   "source": [
    "inputs = {'MLP': 0.4878048780487805,\n",
    " 'Logistic Regression': 0.5853658536585366,\n",
    " 'Decision Tree': 0.6585365853658537}\n",
    "\n",
    "inputdict = {}\n",
    "for key, value in inputs.items():\n",
    "    # do something with value\n",
    "    inputdict[key] = value * 100\n",
    "\n",
    "fig, ax = plt.subplots(figsize=(8,6))\n",
    "ax.bar(inputdict.keys(), inputdict.values())\n",
    "\n",
    "# Add a title, xlabel and ylabel to the plot\n",
    "ax.set(title=\"Accuracy Percentage after hyperparameters tunning\",\n",
    "       xlabel=\"Model Name\",\n",
    "       ylabel=\"Accuracy Percentage\")"
   ]
  },
  {
   "cell_type": "code",
   "execution_count": null,
   "metadata": {},
   "outputs": [],
   "source": []
  }
 ],
 "metadata": {
  "kernelspec": {
   "display_name": "Python 3 (ipykernel)",
   "language": "python",
   "name": "python3"
  },
  "language_info": {
   "codemirror_mode": {
    "name": "ipython",
    "version": 3
   },
   "file_extension": ".py",
   "mimetype": "text/x-python",
   "name": "python",
   "nbconvert_exporter": "python",
   "pygments_lexer": "ipython3",
   "version": "3.9.12"
  }
 },
 "nbformat": 4,
 "nbformat_minor": 4
}
